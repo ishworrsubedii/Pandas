{
 "cells": [
  {
   "cell_type": "markdown",
   "id": "b867c2f2",
   "metadata": {
    "papermill": {
     "duration": 0.004225,
     "end_time": "2023-03-29T10:17:04.131947",
     "exception": false,
     "start_time": "2023-03-29T10:17:04.127722",
     "status": "completed"
    },
    "tags": []
   },
   "source": [
    "# Introduction\n",
    "\n",
    "Run the following cell to load your data and some utility functions."
   ]
  },
  {
   "cell_type": "code",
   "execution_count": 1,
   "id": "cbe48160",
   "metadata": {
    "execution": {
     "iopub.execute_input": "2023-03-29T10:17:04.140413Z",
     "iopub.status.busy": "2023-03-29T10:17:04.139985Z",
     "iopub.status.idle": "2023-03-29T10:17:07.081658Z",
     "shell.execute_reply": "2023-03-29T10:17:07.080282Z"
    },
    "papermill": {
     "duration": 2.949805,
     "end_time": "2023-03-29T10:17:07.085181",
     "exception": false,
     "start_time": "2023-03-29T10:17:04.135376",
     "status": "completed"
    },
    "tags": []
   },
   "outputs": [
    {
     "name": "stdout",
     "output_type": "stream",
     "text": [
      "Setup complete.\n"
     ]
    }
   ],
   "source": [
    "import pandas as pd\n",
    "\n",
    "reviews = pd.read_csv(\"../input/wine-reviews/winemag-data-130k-v2.csv\", index_col=0)\n",
    "\n",
    "from learntools.core import binder; binder.bind(globals())\n",
    "from learntools.pandas.data_types_and_missing_data import *\n",
    "print(\"Setup complete.\")"
   ]
  },
  {
   "cell_type": "markdown",
   "id": "02f5f244",
   "metadata": {
    "papermill": {
     "duration": 0.002975,
     "end_time": "2023-03-29T10:17:07.091616",
     "exception": false,
     "start_time": "2023-03-29T10:17:07.088641",
     "status": "completed"
    },
    "tags": []
   },
   "source": [
    "# Exercises"
   ]
  },
  {
   "cell_type": "markdown",
   "id": "40b0387f",
   "metadata": {
    "papermill": {
     "duration": 0.00289,
     "end_time": "2023-03-29T10:17:07.097733",
     "exception": false,
     "start_time": "2023-03-29T10:17:07.094843",
     "status": "completed"
    },
    "tags": []
   },
   "source": [
    "## 1. \n",
    "What is the data type of the `points` column in the dataset?"
   ]
  },
  {
   "cell_type": "code",
   "execution_count": 2,
   "id": "11e322a8",
   "metadata": {
    "execution": {
     "iopub.execute_input": "2023-03-29T10:17:07.106063Z",
     "iopub.status.busy": "2023-03-29T10:17:07.105635Z",
     "iopub.status.idle": "2023-03-29T10:17:07.117847Z",
     "shell.execute_reply": "2023-03-29T10:17:07.116375Z"
    },
    "papermill": {
     "duration": 0.019945,
     "end_time": "2023-03-29T10:17:07.120765",
     "exception": false,
     "start_time": "2023-03-29T10:17:07.100820",
     "status": "completed"
    },
    "tags": []
   },
   "outputs": [
    {
     "data": {
      "application/javascript": [
       "parent.postMessage({\"jupyterEvent\": \"custom.exercise_interaction\", \"data\": {\"outcomeType\": 1, \"valueTowardsCompletion\": 0.25, \"interactionType\": 1, \"questionType\": 1, \"questionId\": \"1_PointsDtype\", \"learnToolsVersion\": \"0.3.4\", \"failureMessage\": \"\", \"exceptionClass\": \"\", \"trace\": \"\"}}, \"*\")"
      ],
      "text/plain": [
       "<IPython.core.display.Javascript object>"
      ]
     },
     "metadata": {},
     "output_type": "display_data"
    },
    {
     "data": {
      "text/markdown": [
       "<span style=\"color:#33cc33\">Correct</span>"
      ],
      "text/plain": [
       "Correct"
      ]
     },
     "metadata": {},
     "output_type": "display_data"
    }
   ],
   "source": [
    "\n",
    "dtype =reviews.points.dtype\n",
    "\n",
    "# Check your answer\n",
    "q1.check()\n"
   ]
  },
  {
   "cell_type": "markdown",
   "id": "1db17787",
   "metadata": {
    "papermill": {
     "duration": 0.003276,
     "end_time": "2023-03-29T10:17:07.127664",
     "exception": false,
     "start_time": "2023-03-29T10:17:07.124388",
     "status": "completed"
    },
    "tags": []
   },
   "source": [
    "## 2. \n",
    "Create a Series from entries in the `points` column, but convert the entries to strings. Hint: strings are `str` in native Python."
   ]
  },
  {
   "cell_type": "code",
   "execution_count": 3,
   "id": "43b1c4d1",
   "metadata": {
    "execution": {
     "iopub.execute_input": "2023-03-29T10:17:07.137146Z",
     "iopub.status.busy": "2023-03-29T10:17:07.136709Z",
     "iopub.status.idle": "2023-03-29T10:17:07.226488Z",
     "shell.execute_reply": "2023-03-29T10:17:07.225172Z"
    },
    "papermill": {
     "duration": 0.097559,
     "end_time": "2023-03-29T10:17:07.228932",
     "exception": false,
     "start_time": "2023-03-29T10:17:07.131373",
     "status": "completed"
    },
    "tags": []
   },
   "outputs": [
    {
     "data": {
      "application/javascript": [
       "parent.postMessage({\"jupyterEvent\": \"custom.exercise_interaction\", \"data\": {\"outcomeType\": 1, \"valueTowardsCompletion\": 0.25, \"interactionType\": 1, \"questionType\": 1, \"questionId\": \"2_StrPoints\", \"learnToolsVersion\": \"0.3.4\", \"failureMessage\": \"\", \"exceptionClass\": \"\", \"trace\": \"\"}}, \"*\")"
      ],
      "text/plain": [
       "<IPython.core.display.Javascript object>"
      ]
     },
     "metadata": {},
     "output_type": "display_data"
    },
    {
     "data": {
      "text/markdown": [
       "<span style=\"color:#33cc33\">Correct</span>"
      ],
      "text/plain": [
       "Correct"
      ]
     },
     "metadata": {},
     "output_type": "display_data"
    }
   ],
   "source": [
    "point_strings =reviews.points.astype('str')\n",
    "\n",
    "# Check your answer\n",
    "q2.check()"
   ]
  },
  {
   "cell_type": "markdown",
   "id": "ef47a817",
   "metadata": {
    "papermill": {
     "duration": 0.003788,
     "end_time": "2023-03-29T10:17:07.236614",
     "exception": false,
     "start_time": "2023-03-29T10:17:07.232826",
     "status": "completed"
    },
    "tags": []
   },
   "source": [
    "## 3.\n",
    "Sometimes the price column is null. How many reviews in the dataset are missing a price?"
   ]
  },
  {
   "cell_type": "code",
   "execution_count": 4,
   "id": "3ef3cf1a",
   "metadata": {
    "execution": {
     "iopub.execute_input": "2023-03-29T10:17:07.246100Z",
     "iopub.status.busy": "2023-03-29T10:17:07.245682Z",
     "iopub.status.idle": "2023-03-29T10:17:07.261428Z",
     "shell.execute_reply": "2023-03-29T10:17:07.260017Z"
    },
    "papermill": {
     "duration": 0.023743,
     "end_time": "2023-03-29T10:17:07.264131",
     "exception": false,
     "start_time": "2023-03-29T10:17:07.240388",
     "status": "completed"
    },
    "tags": []
   },
   "outputs": [
    {
     "data": {
      "application/javascript": [
       "parent.postMessage({\"jupyterEvent\": \"custom.exercise_interaction\", \"data\": {\"outcomeType\": 1, \"valueTowardsCompletion\": 0.25, \"interactionType\": 1, \"questionType\": 1, \"questionId\": \"3_CountMissingPrices\", \"learnToolsVersion\": \"0.3.4\", \"failureMessage\": \"\", \"exceptionClass\": \"\", \"trace\": \"\"}}, \"*\")"
      ],
      "text/plain": [
       "<IPython.core.display.Javascript object>"
      ]
     },
     "metadata": {},
     "output_type": "display_data"
    },
    {
     "data": {
      "text/markdown": [
       "<span style=\"color:#33cc33\">Correct</span>"
      ],
      "text/plain": [
       "Correct"
      ]
     },
     "metadata": {},
     "output_type": "display_data"
    },
    {
     "data": {
      "text/plain": [
       "8996"
      ]
     },
     "execution_count": 4,
     "metadata": {},
     "output_type": "execute_result"
    }
   ],
   "source": [
    "n_missing_prices = pd.isnull(reviews.price).sum()\n",
    "\n",
    "\n",
    "q3.check()\n",
    "\n",
    "n_missing_prices\n"
   ]
  },
  {
   "cell_type": "markdown",
   "id": "8595e0cd",
   "metadata": {
    "papermill": {
     "duration": 0.003845,
     "end_time": "2023-03-29T10:17:07.272310",
     "exception": false,
     "start_time": "2023-03-29T10:17:07.268465",
     "status": "completed"
    },
    "tags": []
   },
   "source": [
    "## 4.\n",
    "What are the most common wine-producing regions? Create a Series counting the number of times each value occurs in the `region_1` field. This field is often missing data, so replace missing values with `Unknown`. Sort in descending order.  Your output should look something like this:\n",
    "\n",
    "```\n",
    "Unknown                    21247\n",
    "Napa Valley                 4480\n",
    "                           ...  \n",
    "Bardolino Superiore            1\n",
    "Primitivo del Tarantino        1\n",
    "Name: region_1, Length: 1230, dtype: int64\n",
    "```"
   ]
  },
  {
   "cell_type": "code",
   "execution_count": 5,
   "id": "c580fa31",
   "metadata": {
    "execution": {
     "iopub.execute_input": "2023-03-29T10:17:07.282915Z",
     "iopub.status.busy": "2023-03-29T10:17:07.281771Z",
     "iopub.status.idle": "2023-03-29T10:17:07.334063Z",
     "shell.execute_reply": "2023-03-29T10:17:07.332576Z"
    },
    "papermill": {
     "duration": 0.060552,
     "end_time": "2023-03-29T10:17:07.336886",
     "exception": false,
     "start_time": "2023-03-29T10:17:07.276334",
     "status": "completed"
    },
    "tags": []
   },
   "outputs": [
    {
     "data": {
      "application/javascript": [
       "parent.postMessage({\"jupyterEvent\": \"custom.exercise_interaction\", \"data\": {\"outcomeType\": 1, \"valueTowardsCompletion\": 0.25, \"interactionType\": 1, \"questionType\": 2, \"questionId\": \"4_ReviewsPerRegion\", \"learnToolsVersion\": \"0.3.4\", \"failureMessage\": \"\", \"exceptionClass\": \"\", \"trace\": \"\"}}, \"*\")"
      ],
      "text/plain": [
       "<IPython.core.display.Javascript object>"
      ]
     },
     "metadata": {},
     "output_type": "display_data"
    },
    {
     "data": {
      "text/markdown": [
       "<span style=\"color:#33cc33\">Correct</span>"
      ],
      "text/plain": [
       "Correct"
      ]
     },
     "metadata": {},
     "output_type": "display_data"
    },
    {
     "data": {
      "text/plain": [
       "Unknown                 21247\n",
       "Napa Valley              4480\n",
       "Columbia Valley (WA)     4124\n",
       "Russian River Valley     3091\n",
       "California               2629\n",
       "                        ...  \n",
       "Offida Rosso                1\n",
       "Corton Perrières            1\n",
       "Isle St. George             1\n",
       "Geelong                     1\n",
       "Paestum                     1\n",
       "Name: region_1, Length: 1230, dtype: int64"
      ]
     },
     "execution_count": 5,
     "metadata": {},
     "output_type": "execute_result"
    }
   ],
   "source": [
    "reviews_per_region = reviews.region_1.fillna('Unknown').value_counts().sort_values(ascending=False)\n",
    "q4.check()\n",
    "\n",
    "reviews_per_region"
   ]
  }
 ],
 "metadata": {
  "kernelspec": {
   "display_name": "Python 3",
   "language": "python",
   "name": "python3"
  },
  "language_info": {
   "codemirror_mode": {
    "name": "ipython",
    "version": 3
   },
   "file_extension": ".py",
   "mimetype": "text/x-python",
   "name": "python",
   "nbconvert_exporter": "python",
   "pygments_lexer": "ipython3",
   "version": "3.7.12"
  },
  "papermill": {
   "default_parameters": {},
   "duration": 14.789983,
   "end_time": "2023-03-29T10:17:08.065192",
   "environment_variables": {},
   "exception": null,
   "input_path": "__notebook__.ipynb",
   "output_path": "__notebook__.ipynb",
   "parameters": {},
   "start_time": "2023-03-29T10:16:53.275209",
   "version": "2.4.0"
  }
 },
 "nbformat": 4,
 "nbformat_minor": 5
}
